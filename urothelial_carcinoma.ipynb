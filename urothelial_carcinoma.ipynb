{
  "nbformat": 4,
  "nbformat_minor": 0,
  "metadata": {
    "colab": {
      "provenance": []
    },
    "kernelspec": {
      "name": "python3",
      "display_name": "Python 3"
    },
    "language_info": {
      "name": "python"
    }
  },
  "cells": [
    {
      "cell_type": "code",
      "execution_count": null,
      "metadata": {
        "id": "fnLr7NHyHN1f"
      },
      "outputs": [],
      "source": [
        "import functions\n",
        "import pandas as pd"
      ]
    },
    {
      "cell_type": "markdown",
      "source": [
        "The only preprocessing that is not handled in the funtions is the filtering of channels that will drown out other signals for the clustering"
      ],
      "metadata": {
        "id": "hRkpQlcOHU-l"
      }
    },
    {
      "cell_type": "code",
      "source": [
        "# Paths to files\n",
        "feature_tiff_path = '/data/raw_data/urothelial_carcinoma/urothelial_carcinoma_feature.tiff'\n",
        "mask_tiff_path = '/data/raw_data/urothelial_carcinoma/urothelial_carcinoma_segmentation_mask.tiff'\n",
        "channels_csv_path = '/data/raw_data/urothelial_carcinoma/urothelial_carcinoma_feature.csv'\n",
        "\n",
        "channels_df = pd.read_csv(channels_csv_path)\n",
        "mask = read_tiff_image(mask_tiff_path)\n",
        "\n",
        "# Not including channels that will likely only lead to noise\n",
        "#print(channels_df)\n",
        "noisy_channels = {0,1,2,3,5,8,17,22,26,27,28,33,34,36,39,40,41,42}\n",
        "# removed channels: 80ArAr (ArAr80), HistoneH3(In113), <EMPTY> (In115), 129Xe (Xe129), <EMPTY> (Nd142), <EMPTY> (Nd145),\n",
        "# <EMPTY> (Sm154), <EMPTY> (Gd160), <EMPTY> (Dy164), <EMPTY> (Ho165), <EMPTY> (Er166), <EMPTY> (Yb171), <EMPTY> (Yb172),\n",
        "# <EMPTY> (Yb174), 190BCKG (BCKG190), DNA1 (Ir191), DNA2 (Ir193), <EMPTY> (Pb204)\n",
        "\n",
        "# Calculate remaining channels by excluding noisy ones\n",
        "all_channels = set(range(len(channels_df)))\n",
        "remaining_channels = list(all_channels - noisy_channels)\n",
        "\n",
        "# Select the non-noisy channels\n",
        "filtered_img_data = read_tiff_image(feature_tiff_path)[remaining_channels]\n",
        "channels_df = channels_df.iloc[remaining_channels]\n",
        "\n",
        "data, cell_ids, centroids, dataScaleSize, cellSizes = extract_data_from_tiffs(feature_tiff_path, mask, remaining_channels)\n",
        "feature_img = read_tiff_image(feature_tiff_path)"
      ],
      "metadata": {
        "id": "bPNY2gXdHT1y"
      },
      "execution_count": null,
      "outputs": []
    },
    {
      "cell_type": "markdown",
      "source": [
        "The extracted data can then be used to either directly run UTAG"
      ],
      "metadata": {
        "id": "vRRAHJXsKaSq"
      }
    },
    {
      "cell_type": "code",
      "source": [
        "unmod_adata = utag_create_anndata(feature_img, mask, channels_df)\n",
        "\n",
        "utag_unmod = utag(\n",
        "    unmod_adata,\n",
        "    slide_key=\"roi\",\n",
        "    max_dist=15,\n",
        "    normalization_mode='l1_norm',\n",
        "    apply_clustering=True,\n",
        "    clustering_method = 'parc',\n",
        "    resolutions = [0.3]\n",
        ")"
      ],
      "metadata": {
        "id": "99OHZbeHJNO8"
      },
      "execution_count": null,
      "outputs": []
    },
    {
      "cell_type": "markdown",
      "source": [
        "Alternatively REDSEA spillover compensation can be applied before clustering with   "
      ],
      "metadata": {
        "id": "5mA193HFKZZY"
      }
    },
    {
      "cell_type": "code",
      "source": [
        "# Running REDSEA\n",
        "data_compen_scale_size_cells, means, stdevs, valid_indices = redsea_compensation(data, mask, filtered_img_data, channels_df, feature_tiff_path,\n",
        "                                                                                 cell_sizes, element_shape=2, element_size=2)\n",
        "\n",
        "redsea_adata = create_anndata(data_compen_scale_size_cells, cell_ids, centroids, means, stdevs, channels_df, valid_indices)\n",
        "# Running UTAG\n",
        "utag_redsea = utag(\n",
        "    redsea_adata,\n",
        "    slide_key=\"roi\",\n",
        "    max_dist=15,\n",
        "    normalization_mode='l1_norm',\n",
        "    apply_clustering=True,\n",
        "    clustering_method = 'parc',\n",
        "    resolutions = [0.3]\n",
        ")"
      ],
      "metadata": {
        "id": "eUcsy97BJV5S"
      },
      "execution_count": null,
      "outputs": []
    }
  ]
}